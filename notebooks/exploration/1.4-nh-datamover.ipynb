{
 "cells": [
  {
   "cell_type": "code",
   "execution_count": 2,
   "metadata": {},
   "outputs": [],
   "source": [
    "import os\n",
    "import shutil"
   ]
  },
  {
   "cell_type": "code",
   "execution_count": 9,
   "metadata": {},
   "outputs": [],
   "source": [
    "dir=r'F:/DataspellProjects/IndonesiaReg/Data/f1-tfeed'"
   ]
  },
  {
   "cell_type": "code",
   "execution_count": 12,
   "metadata": {},
   "outputs": [],
   "source": [
    "for folder in os.listdir(dir):\n",
    "    if '20' in folder:\n",
    "        os.mkdir(f'F:/f1analytics/data/interim/f1tfeed/{folder}')\n",
    "        os.mkdir(f'F:/f1analytics/data/raw/f1tfeed/{folder}')\n",
    "        os.mkdir(f'F:/f1analytics/data/external/f1tfeed/{folder}')\n",
    "        for files in os.listdir(dir+f'/{folder}'):\n",
    "            dir2=dir+f'/{folder}'\n",
    "            if '.js' in files:\n",
    "                shutil.copy2(f'{dir2}/{files}',f'F:/f1analytics/data/raw/f1tfeed/{folder}/{files}')\n",
    "            if '.csv' in files:\n",
    "                shutil.copy2(f'{dir2}/{files}',f'F:/f1analytics/data/interim/f1tfeed/{folder}/{files}')\n",
    "            if '.zip' in files:\n",
    "                shutil.copy2(f'{dir2}/{files}',f'F:/f1analytics/data/external/f1tfeed/{folder}/{files}')"
   ]
  },
  {
   "cell_type": "code",
   "execution_count": null,
   "metadata": {},
   "outputs": [],
   "source": []
  }
 ],
 "metadata": {
  "kernelspec": {
   "display_name": ".venv",
   "language": "python",
   "name": "python3"
  },
  "language_info": {
   "codemirror_mode": {
    "name": "ipython",
    "version": 3
   },
   "file_extension": ".py",
   "mimetype": "text/x-python",
   "name": "python",
   "nbconvert_exporter": "python",
   "pygments_lexer": "ipython3",
   "version": "3.10.6"
  }
 },
 "nbformat": 4,
 "nbformat_minor": 2
}
