{
 "cells": [
  {
   "cell_type": "code",
   "execution_count": 39,
   "id": "dc9d3650",
   "metadata": {},
   "outputs": [],
   "source": [
    "import requests as rq\n",
    "import pandas as pd\n",
    "import re\n",
    "import tqdm\n",
    "import pickle\n",
    "import numpy as np\n",
    "import os\n",
    "import zipfile\n",
    "import matplotlib.pyplot as plt\n",
    "import shutil"
   ]
  },
  {
   "cell_type": "code",
   "execution_count": 4,
   "id": "initial_id",
   "metadata": {
    "ExecuteTime": {
     "end_time": "2024-02-27T04:14:03.675476400Z",
     "start_time": "2024-02-27T04:14:01.330097Z"
    },
    "collapsed": true
   },
   "outputs": [],
   "source": [
    "urlsessions=r'https://f1.tfeed.net/sessions/eng_sessions.js'\n",
    "\n",
    "seasons=rq.get(urlsessions)\n",
    "teams=pd.Series(re.findall(\"'\\d\\d','\\D+','\\d{4}_\\D+','.+','(.+)'\",seasons.text.replace('\\t',''))).unique()\n",
    "teams_dict={}\n",
    "for team in teams:\n",
    "    teams_dict[team]=rq.get('https://f1.tfeed.net/teams/eng_{}.js'.format(team)).text\n",
    "\n",
    "drivers=pd.Series(re.findall(\"'\\d\\d','\\D+','\\d{4}_\\D+','(.+)',.+\",seasons.text.replace('\\t',''))).unique()\n",
    "drivers_dict={}\n",
    "for driver in drivers:\n",
    "    drivers_dict[driver]=rq.get('https://f1.tfeed.net/drivers/eng_{}.js'.format(driver)).text\n",
    "\n",
    "\n",
    "races=re.findall('(\\d{4}_\\D+)\\',',seasons.text)\n",
    "#season data to get combinations of drivers, teams, etc\n",
    "season_data=re.findall('new Array\\((.+)\\);',seasons.text.replace('\\n',''))\n",
    "season_data=pd.DataFrame(season_data[0].split('\\t'))\n",
    "season_data[0]=season_data[0].apply(lambda x: re.sub('\\)?;.+Array\\(','',x))\n",
    "season_data[0]=season_data[0].apply(lambda x: re.sub('//','',x))\n",
    "\n",
    "to_drop=season_data[season_data[0]=='']\n",
    "season_data[0]=season_data[0].drop(to_drop.index)\n",
    "season_data.dropna(inplace=True)\n",
    "season_data.reset_index(inplace=True,drop=True)\n",
    "season_data[0]=season_data[0].str.replace(\"'\",\"\")\n",
    "season_data=season_data[0].str.split(',',expand=True).drop(columns=[5])\n",
    "season_data['season']=season_data[3].apply(lambda x: re.findall('(\\d{4})',x)[0])\n",
    "season_data.rename(columns={0:'weekend_num',1:'race_name',2:'session_name',3:'driver_set',4:'team_set'},inplace=True)\n",
    "season_data['notes']=None\n",
    "notes_raw=re.findall('notes\\[.+\\]=.+;',seasons.text.replace('\\n',''))[0].split(';')\n",
    "notes=[]\n",
    "[notes.append(x) for x in notes_raw if 'notes' in x]\n",
    "\n",
    "for x in notes:\n",
    "    test=re.findall(\"'(\\d+)'\",x)\n",
    "    id=season_data.index[(season_data['season']==test[0])&(season_data['weekend_num']==test[1])][0]\n",
    "    season_data.loc[id,'notes']=re.findall('\"(.+)\"',x)[0]"
   ]
  },
  {
   "cell_type": "code",
   "execution_count": 5,
   "id": "acae76e3",
   "metadata": {},
   "outputs": [],
   "source": [
    "urlconfig=r'https://f1.tfeed.net/sessions/config.js?v=10.7'\n",
    "config_data=rq.get(urlconfig).text.replace('\\n','').replace('\\t','') \n",
    "track_subs_data=pd.DataFrame(re.findall('map_subst\\[\\'(.+?)\\'\\]=\\'(.+?)\\';',config_data)).rename(columns={0:'session_name',1:'track_name'})\n",
    "season_data=season_data.merge(track_subs_data,how='left',on='session_name')\n",
    "season_data.fillna({'track_name':season_data['session_name']},inplace=True)"
   ]
  },
  {
   "cell_type": "code",
   "execution_count": 44,
   "id": "7701ea77",
   "metadata": {},
   "outputs": [
    {
     "name": "stdout",
     "output_type": "stream",
     "text": [
      "dictionary saved successfully to file\n",
      "dictionary saved successfully to file\n"
     ]
    }
   ],
   "source": [
    "import pickle\n",
    "dir=r'../data/interim/f1-tfeed'\n",
    "# save dictionary to session_data.pkl file\n",
    "with open(dir+r'/team_data.pkl', 'wb') as fp:\n",
    "    pickle.dump(teams_dict, fp)\n",
    "    print('dictionary saved successfully to file')\n",
    "with open(dir+r'/drivers_data.pkl', 'wb') as fp:\n",
    "    pickle.dump(drivers_dict, fp)\n",
    "    print('dictionary saved successfully to file')\n",
    "races=pd.read_csv(r'..\\Data\\f1-tfeed\\season_data.csv')['session_name']\n",
    "sessions={}"
   ]
  },
  {
   "cell_type": "code",
   "execution_count": 12,
   "id": "9fc7a8f6",
   "metadata": {},
   "outputs": [],
   "source": [
    "#KALENDER\n",
    "import json\n",
    "urlcalendar=r'https://f1.tfeed.net/sessions/2024_calendar.js?'\n",
    "content=rq.get(urlcalendar).text.replace('\\n','').replace('\\t','')\n",
    "texts=re.findall('calendar=new Array\\((.+);',content)[0]\n",
    "dfSchedule=pd.DataFrame(re.findall(\"'(\\d+)','(\\d+/\\d+/\\d+)','(\\d+:\\d+)',cst(Practice|Qualification|Sprint|Race),?\",texts))#.drop(0,axis=1)\n",
    "dfSchedule[1]=dfSchedule[1].str.replace('31/09','30/09')\n",
    "if int(re.findall('calendar_utc=-(.+?);',content)[0])==3:\n",
    "    tz_choice='Asia/Bahrain'\n",
    "elif int(re.findall('calendar_utc=-(.+?);',content)[0])==4:\n",
    "    tz_choice='Asia/Yerevan'\n",
    "\n",
    "dfSchedule['TS']=pd.to_datetime(dfSchedule[1]+' '+dfSchedule[2],format='%d/%m/%Y %H:%M').dt.tz_localize(tz=tz_choice).dt.tz_convert('Asia/Jakarta')\n",
    "\n",
    "session_names=[]\n",
    "i=1\n",
    "for text in dfSchedule[3]:\n",
    "    \n",
    "    if text=='Practice':\n",
    "        session_names.append(text+f'{i}')\n",
    "        i+=1\n",
    "    else:\n",
    "        session_names.append(text)\n",
    "        i=1\n",
    "dfSchedule=dfSchedule.merge(pd.DataFrame(session_names),left_index=True,right_index=True)\n",
    "schedule_data=season_data[season_data['season']=='2024'][['weekend_num','race_name','session_name']].merge(dfSchedule,left_on='weekend_num',right_on='0_x')[['weekend_num','race_name','TS','0_y','session_name']].rename(columns={'0_y':'session_type','TS':'timestamp'})"
   ]
  },
  {
   "cell_type": "code",
   "execution_count": 19,
   "id": "fdcb950b",
   "metadata": {},
   "outputs": [],
   "source": [
    "import pickle\n",
    "dirSession=r'F:\\DataspellProjects\\IndonesiaReg\\Data\\f1-tfeed'\n",
    "# Read dictionary pkl file\n",
    "with open(dirSession+'\\session_data.pkl', 'rb') as fp:\n",
    "    sessions = pickle.load(fp)\n",
    "    "
   ]
  },
  {
   "cell_type": "code",
   "execution_count": 20,
   "id": "05be3d82",
   "metadata": {},
   "outputs": [],
   "source": [
    "races=season_data['session_name']\n",
    "#sessions={}\n",
    "from datetime import datetime\n",
    "now=datetime.now()\n",
    "\n",
    "\n",
    "for num,formats in enumerate(races):\n",
    "    if re.match('2024_.+',formats):\n",
    "        race_time=pd.to_datetime(schedule_data[(schedule_data['session_name']==formats)&(schedule_data['session_type']=='Race')]['timestamp'].values[0])\n",
    "        if now>race_time:\n",
    "            url=r'https://f1.tfeed.net/sessions/{}/session.js?'.format(formats)\n",
    "            if (formats not in list(sessions.keys())) and (formats not in ['2021_spa','2023_imola']):\n",
    "                resp=rq.get(url)\n",
    "                if resp.status_code!=200:\n",
    "                    i=0 \n",
    "                    while resp.status_code!=200:\n",
    "                        print(f'Retrying {formats}, trial number {i+1}...')\n",
    "                        resp=rq.get(url)\n",
    "                        i+=1\n",
    "                    continue\n",
    "                sessions[formats]=resp.text\n",
    "            else: continue\n",
    "        else: break"
   ]
  },
  {
   "cell_type": "code",
   "execution_count": 21,
   "id": "78bb859e",
   "metadata": {},
   "outputs": [
    {
     "name": "stdout",
     "output_type": "stream",
     "text": [
      "dictionary saved successfully to file\n"
     ]
    }
   ],
   "source": [
    "import pickle\n",
    "# save dictionary to session_data.pkl file\n",
    "with open(dirSession+'\\session_data.pkl', 'wb') as fp:\n",
    "    pickle.dump(sessions, fp)\n",
    "    print('dictionary saved successfully to file')"
   ]
  },
  {
   "cell_type": "code",
   "execution_count": 40,
   "id": "7269d2c6566bc870",
   "metadata": {
    "ExecuteTime": {
     "start_time": "2024-02-26T11:23:08.212926300Z"
    },
    "collapsed": false
   },
   "outputs": [
    {
     "name": "stdout",
     "output_type": "stream",
     "text": [
      "\n",
      "Downloading 2024_saudi_arabia\n",
      "Download attempt number 1\n"
     ]
    },
    {
     "name": "stderr",
     "output_type": "stream",
     "text": [
      "100%|██████████| 8141876/8141876 [02:54<00:00, 46609.82B/s] \n",
      "100%|█████████▉| 6995968/7011167 [00:30<00:00, 245640.93B/s]"
     ]
    },
    {
     "name": "stdout",
     "output_type": "stream",
     "text": [
      "Extracting zip...\n"
     ]
    },
    {
     "name": "stderr",
     "output_type": "stream",
     "text": [
      "100%|██████████| 4627/4627 [00:02<00:00, 1945.55it/s]\n"
     ]
    },
    {
     "name": "stdout",
     "output_type": "stream",
     "text": [
      "Download 2024_saudi_arabia success\n",
      "\n",
      "Downloading 2024_australia\n",
      "Download attempt number 1\n"
     ]
    },
    {
     "name": "stderr",
     "output_type": "stream",
     "text": [
      "100%|██████████| 7011167/7011167 [00:34<00:00, 203162.04B/s]\n"
     ]
    },
    {
     "name": "stdout",
     "output_type": "stream",
     "text": [
      "Extracting zip...\n"
     ]
    },
    {
     "name": "stderr",
     "output_type": "stream",
     "text": [
      "100%|██████████| 4680/4680 [00:02<00:00, 2021.25it/s]\n"
     ]
    },
    {
     "name": "stdout",
     "output_type": "stream",
     "text": [
      "Download 2024_australia success\n",
      "\n",
      "Downloading 2024_suzuka\n",
      "Download attempt number 1\n"
     ]
    },
    {
     "name": "stderr",
     "output_type": "stream",
     "text": [
      "100%|██████████| 7203233/7203233 [00:35<00:00, 200799.42B/s]\n",
      "100%|█████████▉| 9240576/9260116 [00:30<00:00, 274665.29B/s]"
     ]
    },
    {
     "name": "stdout",
     "output_type": "stream",
     "text": [
      "Extracting zip...\n"
     ]
    },
    {
     "name": "stderr",
     "output_type": "stream",
     "text": [
      "100%|██████████| 6439/6439 [00:03<00:00, 2031.14it/s]\n"
     ]
    },
    {
     "name": "stdout",
     "output_type": "stream",
     "text": [
      "Download 2024_suzuka success\n",
      "\n",
      "Downloading 2024_china\n",
      "Download attempt number 1\n"
     ]
    },
    {
     "name": "stderr",
     "output_type": "stream",
     "text": [
      "100%|██████████| 9260116/9260116 [00:35<00:00, 262293.75B/s]\n"
     ]
    },
    {
     "name": "stdout",
     "output_type": "stream",
     "text": [
      "Extracting zip...\n"
     ]
    },
    {
     "name": "stderr",
     "output_type": "stream",
     "text": [
      "100%|██████████| 5697/5697 [00:02<00:00, 1997.07it/s]\n"
     ]
    },
    {
     "name": "stdout",
     "output_type": "stream",
     "text": [
      "Download 2024_china success\n",
      "\n",
      "Downloading 2024_miami\n",
      "Download attempt number 1\n"
     ]
    },
    {
     "name": "stderr",
     "output_type": "stream",
     "text": [
      "100%|██████████| 8972383/8972383 [00:44<00:00, 203250.97B/s]\n",
      "100%|█████████▉| 7897088/7910359 [00:34<00:00, 259576.62B/s]"
     ]
    },
    {
     "name": "stdout",
     "output_type": "stream",
     "text": [
      "Extracting zip...\n"
     ]
    },
    {
     "name": "stderr",
     "output_type": "stream",
     "text": [
      "100%|██████████| 5107/5107 [00:02<00:00, 2046.99it/s]\n"
     ]
    },
    {
     "name": "stdout",
     "output_type": "stream",
     "text": [
      "Download 2024_miami success\n",
      "\n",
      "Downloading 2024_imola\n",
      "Download attempt number 1\n"
     ]
    },
    {
     "name": "stderr",
     "output_type": "stream",
     "text": [
      "100%|██████████| 7910359/7910359 [00:38<00:00, 204806.23B/s]\n"
     ]
    },
    {
     "name": "stdout",
     "output_type": "stream",
     "text": [
      "Extracting zip...\n"
     ]
    },
    {
     "name": "stderr",
     "output_type": "stream",
     "text": [
      "100%|██████████| 4774/4774 [00:02<00:00, 1969.05it/s]"
     ]
    },
    {
     "name": "stdout",
     "output_type": "stream",
     "text": [
      "Download 2024_imola success\n"
     ]
    },
    {
     "name": "stderr",
     "output_type": "stream",
     "text": [
      "\n"
     ]
    }
   ],
   "source": [
    "import os\n",
    "import zipfile\n",
    "from tqdm import tqdm\n",
    "dir=r'..\\..\\data\\interim\\f1tfeed'\n",
    "\n",
    "errors=[]\n",
    "for formats in races:\n",
    "    retries=0\n",
    "    url=r'https://f1.tfeed.net/sessions/{}/session.zip'.format(formats)\n",
    "    if os.path.exists(os.path.normpath(dir+'/{}'.format(formats))):\n",
    "        continue\n",
    "    race_time=pd.to_datetime(schedule_data[(schedule_data['session_name']==formats)&(schedule_data['session_type']=='Race')]['timestamp'].values[0])\n",
    "    if now>race_time:\n",
    "        print('\\nDownloading '+formats)\n",
    "        os.mkdir(os.path.normpath(dir+'/{}'.format(formats)))\n",
    "        while retries<3:\n",
    "            try:\n",
    "                print('Download attempt number '+str(retries+1))\n",
    "                chunkSize = 1024\n",
    "                r = rq.get(url, stream=True)\n",
    "                with open(os.path.normpath(dir+'/{}/session.zip'.format(formats)), 'wb') as f:\n",
    "                    pbar = tqdm( unit=\"B\", total=int( r.headers['Content-Length'] ) )\n",
    "                    for chunk in r.iter_content(chunk_size=chunkSize): \n",
    "                        if chunk: # filter out keep-alive new chunks\n",
    "                            pbar.update (len(chunk))\n",
    "                            f.write(chunk)\n",
    "                with zipfile.ZipFile(os.path.normpath(dir+'/{}/session.zip'.format(formats)), 'r') as zip_ref:\n",
    "                    print('Extracting zip...')\n",
    "                    for file in tqdm(iterable=zip_ref.namelist(), total=len(zip_ref.namelist())):\n",
    "                        zip_ref.extract(member=file, path=os.path.normpath((dir+'/{}'.format(formats))))\n",
    "                break\n",
    "            except Exception as e:\n",
    "                shutil.rmtree(os.path.normpath(dir+'/{}'.format(formats)),ignore_errors=True)\n",
    "                print(e)\n",
    "                retries+=1\n",
    "        if retries==3:\n",
    "            print('Download {} failed'.format(formats))\n",
    "            errors.append(formats)\n",
    "        else:\n",
    "            print('Download {} success'.format(formats))"
   ]
  },
  {
   "cell_type": "code",
   "execution_count": null,
   "id": "32d10f92015d55d",
   "metadata": {
    "collapsed": false
   },
   "outputs": [],
   "source": [
    "#todo: process semua link\n",
    "#https://f1.tfeed.net/sessions/2024_calendar.js? - kalender -DONE\n",
    "#https://f1.tfeed.net/sessions/config.js?v=10.7 - konfigurasi skor, track, dan rulebook -Nanti aja, bukan prioritas"
   ]
  },
  {
   "cell_type": "code",
   "execution_count": null,
   "id": "6b4658e9",
   "metadata": {},
   "outputs": [],
   "source": [
    "class Track:\n",
    "    def __init__(self,trajectory,sectorStartShift,sectors,mapLaps,mapLength,mapCenter,mapNorth,mapName):\n",
    "        self.trajectory=trajectory\n",
    "        self.sectorStartShift=sectorStartShift,\n",
    "        self.sectors=sectors,\n",
    "        self.mapLaps=mapLaps,\n",
    "        self.mapLength=mapLength,\n",
    "        self.mapCenter=mapCenter,\n",
    "        self.mapNorth=mapNorth,\n",
    "        self.mapName=mapName"
   ]
  },
  {
   "cell_type": "code",
   "execution_count": 236,
   "id": "da12cf70",
   "metadata": {},
   "outputs": [],
   "source": [
    "\n",
    "#track processing\n",
    "urlmaps=r'https://f1.tfeed.net/maps/2022_australia.js'\n",
    "maps_data=rq.get(urlmaps).text.replace('\\n','').replace('\\t','')\n",
    "trajectory=re.findall('(\\d+),?',re.findall('trajectory=new Array\\((.+?)\\);',maps_data)[0])\n",
    "trajectory=np.array(trajectory).astype(int).reshape(-1,2)\n",
    "\n",
    "sectorStartShift=np.array(re.findall('sectorsStartShift=\\[(\\d+),(\\d+)\\];',maps_data)[0]).astype(int).reshape(-1,2)\n",
    "\n",
    "sectors=re.findall('sectors\\[(1|2)\\]=new Array\\((\\d+),(\\d+)\\);',maps_data)\n",
    "sectors.insert(0,('0',trajectory[0,0],trajectory[0,1]))\n",
    "\n",
    "mapLaps=int(re.findall('mapLaps=(\\d+);',maps_data)[0])\n",
    "mapLength=int(re.findall('mapLength=(\\d+);',maps_data)[0])\n",
    "mapCenter=np.array(re.findall('mapCenter=\\[(\\d+),(\\d+)\\];',maps_data)[0]).astype(int).reshape(-1,2)\n",
    "mapNorth=float(re.findall('mapNorth=(\\d+\\.\\d+);',maps_data)[0])\n",
    "mapName=re.findall('aMapName\\[\\'eng\\'\\]=(\\'.+\\');',maps_data)[0]"
   ]
  },
  {
   "cell_type": "code",
   "execution_count": 243,
   "id": "85428d15",
   "metadata": {},
   "outputs": [
    {
     "data": {
      "text/plain": [
       "[<matplotlib.lines.Line2D at 0x16b95e1d0>]"
      ]
     },
     "execution_count": 243,
     "metadata": {},
     "output_type": "execute_result"
    },
    {
     "data": {
      "image/png": "[encoded data removed]",
      "text/plain": [
       "<Figure size 700x400 with 1 Axes>"
      ]
     },
     "metadata": {},
     "output_type": "display_data"
    }
   ],
   "source": [
    "import matplotlib.pyplot as plt\n",
    "fig,ax=plt.subplots(figsize=(7,4))\n",
    "ax.plot(trajectory[:-1,0],trajectory[:-1,1],linestyle='-',linewidth=1)"
   ]
  }
 ],
 "metadata": {
  "kernelspec": {
   "display_name": "Python 3",
   "language": "python",
   "name": "python3"
  },
  "language_info": {
   "codemirror_mode": {
    "name": "ipython",
    "version": 3
   },
   "file_extension": ".py",
   "mimetype": "text/x-python",
   "name": "python",
   "nbconvert_exporter": "python",
   "pygments_lexer": "ipython3",
   "version": "3.10.6"
  }
 },
 "nbformat": 4,
 "nbformat_minor": 5
}
