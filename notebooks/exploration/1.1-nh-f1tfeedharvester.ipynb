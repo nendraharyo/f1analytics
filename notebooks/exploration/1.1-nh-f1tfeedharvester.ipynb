{
 "cells": [
  {
   "cell_type": "code",
   "execution_count": 16,
   "id": "initial_id",
   "metadata": {
    "ExecuteTime": {
     "end_time": "2024-02-27T04:14:03.675476400Z",
     "start_time": "2024-02-27T04:14:01.330097Z"
    },
    "collapsed": true
   },
   "outputs": [],
   "source": [
    "import requests as rq\n",
    "urlsessions=r'https://f1.tfeed.net/sessions/eng_sessions.js'\n",
    "\n",
    "x=rq.get(urlsessions)"
   ]
  },
  {
   "cell_type": "code",
   "execution_count": 40,
   "id": "de104030",
   "metadata": {},
   "outputs": [],
   "source": [
    "import pandas as pd\n",
    "teams=pd.Series(re.findall(\"'\\d\\d','\\D+','\\d{4}_\\D+','.+','(.+)'\",x.text.replace('\\t',''))).unique()\n",
    "teams_dict={}\n",
    "for team in teams:\n",
    "    teams_dict[team]=rq.get('https://f1.tfeed.net/teams/eng_{}.js'.format(team)).text\n",
    "\n",
    "drivers=pd.Series(re.findall(\"'\\d\\d','\\D+','\\d{4}_\\D+','(.+)',.+\",x.text.replace('\\t',''))).unique()\n",
    "drivers_dict={}\n",
    "for driver in drivers:\n",
    "    drivers_dict[driver]=rq.get('https://f1.tfeed.net/drivers/eng_{}.js'.format(driver)).text"
   ]
  },
  {
   "cell_type": "code",
   "execution_count": 44,
   "id": "7701ea77",
   "metadata": {},
   "outputs": [
    {
     "name": "stdout",
     "output_type": "stream",
     "text": [
      "dictionary saved successfully to file\n",
      "dictionary saved successfully to file\n"
     ]
    }
   ],
   "source": [
    "import pickle\n",
    "dir=r'F:\\DataspellProjects\\IndonesiaReg\\Data\\f1-tfeed'\n",
    "# save dictionary to session_data.pkl file\n",
    "with open(dir+r'\\team_data.pkl', 'wb') as fp:\n",
    "    pickle.dump(teams_dict, fp)\n",
    "    print('dictionary saved successfully to file')\n",
    "with open(dir+r'\\drivers_data.pkl', 'wb') as fp:\n",
    "    pickle.dump(drivers_dict, fp)\n",
    "    print('dictionary saved successfully to file')"
   ]
  },
  {
   "cell_type": "code",
   "execution_count": 30,
   "id": "78a8286c",
   "metadata": {},
   "outputs": [],
   "source": [
    "import re\n",
    "#racesx=re.findall('(\\d{4}_\\D+)\\',',x.text)\n",
    "races=pd.read_csv(r'..\\Data\\f1-tfeed\\season_data.csv')['session_name']\n",
    "sessions={}"
   ]
  },
  {
   "cell_type": "code",
   "execution_count": 31,
   "id": "d618e04c3c05be8d",
   "metadata": {
    "ExecuteTime": {
     "end_time": "2024-02-27T05:09:10.609511600Z",
     "start_time": "2024-02-27T04:55:20.517653300Z"
    },
    "collapsed": false
   },
   "outputs": [],
   "source": [
    "for num,formats in enumerate(races):\n",
    "\n",
    "    url=r'https://f1.tfeed.net/sessions/{}/session.js?'.format(formats)\n",
    "    if formats not in sessions:\n",
    "        resp=rq.get(url)\n",
    "        if resp.status_code!=200:\n",
    "            print('Error at '+formats+' iteration number '+str(num+1))\n",
    "            continue\n",
    "        sessions[formats]=resp.text"
   ]
  },
  {
   "cell_type": "code",
   "execution_count": 34,
   "id": "78bb859e",
   "metadata": {},
   "outputs": [
    {
     "name": "stdout",
     "output_type": "stream",
     "text": [
      "dictionary saved successfully to file\n"
     ]
    }
   ],
   "source": [
    "import pickle\n",
    "dir=r'F:\\DataspellProjects\\IndonesiaReg\\Data\\f1-tfeed'\n",
    "# save dictionary to session_data.pkl file\n",
    "with open(dir+'\\session_data.pkl', 'wb') as fp:\n",
    "    pickle.dump(sessions, fp)\n",
    "    print('dictionary saved successfully to file')"
   ]
  },
  {
   "cell_type": "code",
   "execution_count": 35,
   "id": "fdcb950b",
   "metadata": {},
   "outputs": [],
   "source": [
    "import pickle\n",
    "dir=r'F:\\DataspellProjects\\IndonesiaReg\\Data\\f1-tfeed'\n",
    "# Read dictionary pkl file\n",
    "with open(dir+'\\session_data.pkl', 'rb') as fp:\n",
    "    sessions = pickle.load(fp)\n",
    "    "
   ]
  },
  {
   "cell_type": "code",
   "execution_count": null,
   "id": "7269d2c6566bc870",
   "metadata": {
    "ExecuteTime": {
     "start_time": "2024-02-26T11:23:08.212926300Z"
    },
    "collapsed": false
   },
   "outputs": [],
   "source": [
    "import os\n",
    "import zipfile\n",
    "from tqdm import tqdm\n",
    "dir=r'F:\\DataspellProjects\\IndonesiaReg\\Data\\f1-tfeed'\n",
    "\n",
    "errors=[]\n",
    "for formats in races:\n",
    "    retries=0\n",
    "    \n",
    "    url=r'https://f1.tfeed.net/sessions/{}/session.zip'.format(formats)\n",
    "    if os.path.exists(dir+'\\{}'.format(formats)):\n",
    "        continue\n",
    "    print('\\nDownloading '+formats)\n",
    "    os.mkdir(dir+'\\{}'.format(formats))\n",
    "    while retries<3:\n",
    "        try:\n",
    "            print('Download attempt number '+str(retries+1))\n",
    "            chunkSize = 1024\n",
    "            r = rq.get(url, stream=True)\n",
    "            with open(dir+'\\{}\\session.zip'.format(formats), 'wb') as f:\n",
    "                pbar = tqdm( unit=\"B\", total=int( r.headers['Content-Length'] ) )\n",
    "                for chunk in r.iter_content(chunk_size=chunkSize): \n",
    "                    if chunk: # filter out keep-alive new chunks\n",
    "                        pbar.update (len(chunk))\n",
    "                        f.write(chunk)\n",
    "            with zipfile.ZipFile(dir+'\\{}\\session.zip'.format(formats), 'r') as zip_ref:\n",
    "                print('Extracting zip...')\n",
    "                for file in tqdm(iterable=zip_ref.namelist(), total=len(zip_ref.namelist())):\n",
    "                    zip_ref.extract(member=file, path=dir+'\\{}'.format(formats))\n",
    "            break\n",
    "        except:\n",
    "            retries+=1\n",
    "            raise e\n",
    "    if retries==3:\n",
    "        print('Download {} failed'.format(formats))\n",
    "        errors.append(formats)\n",
    "    else:\n",
    "        print('Download {} success'.format(formats))"
   ]
  },
  {
   "cell_type": "code",
   "execution_count": null,
   "id": "32d10f92015d55d",
   "metadata": {
    "collapsed": false
   },
   "outputs": [],
   "source": []
  }
 ],
 "metadata": {
  "kernelspec": {
   "display_name": "Python 3",
   "language": "python",
   "name": "python3"
  },
  "language_info": {
   "codemirror_mode": {
    "name": "ipython",
    "version": 3
   },
   "file_extension": ".py",
   "mimetype": "text/x-python",
   "name": "python",
   "nbconvert_exporter": "python",
   "pygments_lexer": "ipython3",
   "version": "3.8.10"
  }
 },
 "nbformat": 4,
 "nbformat_minor": 5
}
