{
 "cells": [
  {
   "cell_type": "code",
   "execution_count": null,
   "metadata": {},
   "outputs": [],
   "source": [
    "from seleniumwire import webdriver\n",
    "import time\n",
    "\n",
    "url = r'https://f1.tfeed.net/live'\n",
    "\n",
    "# Create a new instance of the Chrome driver\n",
    "options = webdriver.ChromeOptions()\n",
    "options.add_argument('--headless=new')\n",
    "driver = webdriver.Chrome( options=options)\n",
    "\n",
    "# Go to the URL\n",
    "driver.get(url)\n",
    "\n",
    "# Wait for the page to load completely\n",
    "# Add your specific wait conditions here if needed\n",
    "\n",
    "# Define a set to store already processed URLs\n",
    "processed_urls = set()\n",
    "\n",
    "while True:\n",
    "    # Access requests via the `requests` attribute\n",
    "    for request in driver.requests:\n",
    "        if request.response and 'tt.js' in request.url and request.url not in processed_urls:\n",
    "            print(request.url)\n",
    "            processed_urls.add(request.url)\n",
    "\n",
    "\n",
    "    # Wait for a short interval before checking again\n",
    "    time.sleep(0.002)"
   ]
  }
 ],
 "metadata": {
  "language_info": {
   "name": "python"
  }
 },
 "nbformat": 4,
 "nbformat_minor": 2
}
