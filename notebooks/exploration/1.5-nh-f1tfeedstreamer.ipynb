{
 "cells": [
  {
   "cell_type": "code",
   "execution_count": null,
   "metadata": {},
   "outputs": [],
   "source": [
    "\n",
    "import sys\n",
    " \n",
    "# adding Folder_2 to the system path\n",
    "sys.path.insert(0, r'F:\\f1analytics\\scripts')\n",
    "\n",
    "\n",
    "import requests as rq\n",
    "\n",
    "from converter import convert_ntt\n",
    "import requests as rq\n",
    "from sqlalchemy import create_engine\n",
    "\n",
    "from multiprocessing import Process\n",
    "from multiprocessing import Manager\n",
    "import time\n",
    "\n",
    "engine=create_engine('')\n",
    "conn=engine.connect()\n",
    "def getData(ttList):\n",
    "    while True:\n",
    "        ttList.append(rq.get(r'https://f1.tfeed.net/tt.js').text)\n",
    "def toDB(ttList):\n",
    "    text=ttList.pop(0)\n",
    "    tlmy,wthr,race=convert_ntt(text)\n",
    "    fullDf=tlmy.merge(wthr,on='timestamp').merge(race,on='timestamp')\n",
    "    fullDf['session_name']='2024_australia'\n",
    "    fullDf.to_sql('testing',conn,if_exists='append')\n",
    "\n",
    "\n",
    "if __name__=='__main__':\n",
    "    mgr = Manager()\n",
    "    ttList=mgr.list()\n",
    "\n",
    "    p1=Process(target=getData,args=(ttList,))\n",
    "    p2=Process(target=toDB,args=(ttList,))\n",
    "    p1.start()\n",
    "    time.sleep(5)\n",
    "    p2.start()\n",
    " "
   ]
  },
  {
   "cell_type": "code",
   "execution_count": null,
   "metadata": {},
   "outputs": [],
   "source": []
  }
 ],
 "metadata": {
  "kernelspec": {
   "display_name": ".venv",
   "language": "python",
   "name": "python3"
  },
  "language_info": {
   "codemirror_mode": {
    "name": "ipython",
    "version": 3
   },
   "file_extension": ".py",
   "mimetype": "text/x-python",
   "name": "python",
   "nbconvert_exporter": "python",
   "pygments_lexer": "ipython3",
   "version": "3.10.6"
  }
 },
 "nbformat": 4,
 "nbformat_minor": 2
}
