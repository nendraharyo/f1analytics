{
 "cells": [
  {
   "cell_type": "code",
   "execution_count": 2,
   "metadata": {},
   "outputs": [],
   "source": [
    "import requests as rq\n",
    "import json\n",
    "import pandas as pd\n",
    "import matplotlib.pyplot as plt"
   ]
  },
  {
   "cell_type": "markdown",
   "metadata": {},
   "source": [
    "first step: get session key"
   ]
  },
  {
   "cell_type": "code",
   "execution_count": 9,
   "metadata": {},
   "outputs": [],
   "source": [
    "country='Canada'\n",
    "sessionName='Race'\n",
    "year=str(2024)\n",
    "canadagp_keys=json.loads(rq.get(f'https://api.openf1.org/v1/sessions?country_name={country}&session_name={sessionName}&year={year}').text)[0]"
   ]
  },
  {
   "cell_type": "code",
   "execution_count": 12,
   "metadata": {},
   "outputs": [],
   "source": [
    "hamilton=pd.DataFrame(json.loads(rq.get(f'https://api.openf1.org/v1/intervals?driver_number=44&session_key={canadagp_keys[\"session_key\"]}').text))"
   ]
  },
  {
   "cell_type": "code",
   "execution_count": 13,
   "metadata": {},
   "outputs": [
    {
     "data": {
      "text/html": [
       "<div>\n",
       "<style scoped>\n",
       "    .dataframe tbody tr th:only-of-type {\n",
       "        vertical-align: middle;\n",
       "    }\n",
       "\n",
       "    .dataframe tbody tr th {\n",
       "        vertical-align: top;\n",
       "    }\n",
       "\n",
       "    .dataframe thead th {\n",
       "        text-align: right;\n",
       "    }\n",
       "</style>\n",
       "<table border=\"1\" class=\"dataframe\">\n",
       "  <thead>\n",
       "    <tr style=\"text-align: right;\">\n",
       "      <th></th>\n",
       "      <th>session_key</th>\n",
       "      <th>meeting_key</th>\n",
       "      <th>date</th>\n",
       "      <th>driver_number</th>\n",
       "      <th>gap_to_leader</th>\n",
       "      <th>interval</th>\n",
       "    </tr>\n",
       "  </thead>\n",
       "  <tbody>\n",
       "    <tr>\n",
       "      <th>0</th>\n",
       "      <td>9531</td>\n",
       "      <td>1237</td>\n",
       "      <td>2024-06-09T18:03:23.424000+00:00</td>\n",
       "      <td>44</td>\n",
       "      <td>2.088</td>\n",
       "      <td>0.567</td>\n",
       "    </tr>\n",
       "    <tr>\n",
       "      <th>1</th>\n",
       "      <td>9531</td>\n",
       "      <td>1237</td>\n",
       "      <td>2024-06-09T18:03:30.374000+00:00</td>\n",
       "      <td>44</td>\n",
       "      <td>2.807</td>\n",
       "      <td>0.323</td>\n",
       "    </tr>\n",
       "    <tr>\n",
       "      <th>2</th>\n",
       "      <td>9531</td>\n",
       "      <td>1237</td>\n",
       "      <td>2024-06-09T18:03:35.899000+00:00</td>\n",
       "      <td>44</td>\n",
       "      <td>3.111</td>\n",
       "      <td>NaN</td>\n",
       "    </tr>\n",
       "    <tr>\n",
       "      <th>3</th>\n",
       "      <td>9531</td>\n",
       "      <td>1237</td>\n",
       "      <td>2024-06-09T18:03:40.392000+00:00</td>\n",
       "      <td>44</td>\n",
       "      <td>3.801</td>\n",
       "      <td>0.677</td>\n",
       "    </tr>\n",
       "    <tr>\n",
       "      <th>4</th>\n",
       "      <td>9531</td>\n",
       "      <td>1237</td>\n",
       "      <td>2024-06-09T18:03:45.567000+00:00</td>\n",
       "      <td>44</td>\n",
       "      <td>3.863</td>\n",
       "      <td>0.678</td>\n",
       "    </tr>\n",
       "    <tr>\n",
       "      <th>...</th>\n",
       "      <td>...</td>\n",
       "      <td>...</td>\n",
       "      <td>...</td>\n",
       "      <td>...</td>\n",
       "      <td>...</td>\n",
       "      <td>...</td>\n",
       "    </tr>\n",
       "    <tr>\n",
       "      <th>1314</th>\n",
       "      <td>9531</td>\n",
       "      <td>1237</td>\n",
       "      <td>2024-06-09T19:48:48.584000+00:00</td>\n",
       "      <td>44</td>\n",
       "      <td>5.172</td>\n",
       "      <td>0.619</td>\n",
       "    </tr>\n",
       "    <tr>\n",
       "      <th>1315</th>\n",
       "      <td>9531</td>\n",
       "      <td>1237</td>\n",
       "      <td>2024-06-09T19:48:53.039000+00:00</td>\n",
       "      <td>44</td>\n",
       "      <td>4.774</td>\n",
       "      <td>0.544</td>\n",
       "    </tr>\n",
       "    <tr>\n",
       "      <th>1316</th>\n",
       "      <td>9531</td>\n",
       "      <td>1237</td>\n",
       "      <td>2024-06-09T19:48:57.047000+00:00</td>\n",
       "      <td>44</td>\n",
       "      <td>4.767</td>\n",
       "      <td>0.512</td>\n",
       "    </tr>\n",
       "    <tr>\n",
       "      <th>1317</th>\n",
       "      <td>9531</td>\n",
       "      <td>1237</td>\n",
       "      <td>2024-06-09T19:48:59.842000+00:00</td>\n",
       "      <td>44</td>\n",
       "      <td>4.928</td>\n",
       "      <td>0.529</td>\n",
       "    </tr>\n",
       "    <tr>\n",
       "      <th>1318</th>\n",
       "      <td>9531</td>\n",
       "      <td>1237</td>\n",
       "      <td>2024-06-09T19:49:04.723000+00:00</td>\n",
       "      <td>44</td>\n",
       "      <td>4.915</td>\n",
       "      <td>0.598</td>\n",
       "    </tr>\n",
       "  </tbody>\n",
       "</table>\n",
       "<p>1319 rows × 6 columns</p>\n",
       "</div>"
      ],
      "text/plain": [
       "      session_key  meeting_key                              date  \\\n",
       "0            9531         1237  2024-06-09T18:03:23.424000+00:00   \n",
       "1            9531         1237  2024-06-09T18:03:30.374000+00:00   \n",
       "2            9531         1237  2024-06-09T18:03:35.899000+00:00   \n",
       "3            9531         1237  2024-06-09T18:03:40.392000+00:00   \n",
       "4            9531         1237  2024-06-09T18:03:45.567000+00:00   \n",
       "...           ...          ...                               ...   \n",
       "1314         9531         1237  2024-06-09T19:48:48.584000+00:00   \n",
       "1315         9531         1237  2024-06-09T19:48:53.039000+00:00   \n",
       "1316         9531         1237  2024-06-09T19:48:57.047000+00:00   \n",
       "1317         9531         1237  2024-06-09T19:48:59.842000+00:00   \n",
       "1318         9531         1237  2024-06-09T19:49:04.723000+00:00   \n",
       "\n",
       "      driver_number  gap_to_leader  interval  \n",
       "0                44          2.088     0.567  \n",
       "1                44          2.807     0.323  \n",
       "2                44          3.111       NaN  \n",
       "3                44          3.801     0.677  \n",
       "4                44          3.863     0.678  \n",
       "...             ...            ...       ...  \n",
       "1314             44          5.172     0.619  \n",
       "1315             44          4.774     0.544  \n",
       "1316             44          4.767     0.512  \n",
       "1317             44          4.928     0.529  \n",
       "1318             44          4.915     0.598  \n",
       "\n",
       "[1319 rows x 6 columns]"
      ]
     },
     "execution_count": 13,
     "metadata": {},
     "output_type": "execute_result"
    }
   ],
   "source": [
    "hamilton"
   ]
  },
  {
   "cell_type": "code",
   "execution_count": 14,
   "metadata": {},
   "outputs": [],
   "source": [
    "russell=pd.DataFrame(json.loads(rq.get(f'https://api.openf1.org/v1/intervals?driver_number=63&session_key={canadagp_keys[\"session_key\"]}').text))"
   ]
  },
  {
   "cell_type": "code",
   "execution_count": 17,
   "metadata": {},
   "outputs": [
    {
     "data": {
      "text/plain": [
       "<matplotlib.legend.Legend at 0x11d414610>"
      ]
     },
     "execution_count": 17,
     "metadata": {},
     "output_type": "execute_result"
    },
    {
     "data": {
      "image/png": "[encoded data removed]",
      "text/plain": [
       "<Figure size 640x480 with 1 Axes>"
      ]
     },
     "metadata": {},
     "output_type": "display_data"
    }
   ],
   "source": [
    "hamilton['datetime']=pd.to_datetime(hamilton['date'],format='mixed')\n",
    "russell['datetime']=pd.to_datetime(russell['date'],format='mixed')\n",
    "testx=pd.concat([hamilton,russell])\n",
    "testx=testx.reset_index()\n",
    "fig,ax=plt.subplots()\n",
    "testgroup=testx.groupby('driver_number')\n",
    "for i,group in testgroup:\n",
    "    ax.plot(group['index'],group['gap_to_leader'],label=i)\n",
    "ax.invert_yaxis()\n",
    "ax.legend()"
   ]
  },
  {
   "cell_type": "code",
   "execution_count": 31,
   "metadata": {},
   "outputs": [
    {
     "data": {
      "text/html": [
       "<div>\n",
       "<style scoped>\n",
       "    .dataframe tbody tr th:only-of-type {\n",
       "        vertical-align: middle;\n",
       "    }\n",
       "\n",
       "    .dataframe tbody tr th {\n",
       "        vertical-align: top;\n",
       "    }\n",
       "\n",
       "    .dataframe thead th {\n",
       "        text-align: right;\n",
       "    }\n",
       "</style>\n",
       "<table border=\"1\" class=\"dataframe\">\n",
       "  <thead>\n",
       "    <tr style=\"text-align: right;\">\n",
       "      <th></th>\n",
       "      <th>session_key</th>\n",
       "      <th>meeting_key</th>\n",
       "      <th>driver_number</th>\n",
       "      <th>date</th>\n",
       "      <th>recording_url</th>\n",
       "    </tr>\n",
       "  </thead>\n",
       "  <tbody>\n",
       "    <tr>\n",
       "      <th>0</th>\n",
       "      <td>9523</td>\n",
       "      <td>1236</td>\n",
       "      <td>1</td>\n",
       "      <td>2024-05-26T13:58:55.583000+00:00</td>\n",
       "      <td>https://livetiming.formula1.com/static/2024/20...</td>\n",
       "    </tr>\n",
       "    <tr>\n",
       "      <th>1</th>\n",
       "      <td>9523</td>\n",
       "      <td>1236</td>\n",
       "      <td>1</td>\n",
       "      <td>2024-05-26T15:03:14.548000+00:00</td>\n",
       "      <td>https://livetiming.formula1.com/static/2024/20...</td>\n",
       "    </tr>\n",
       "    <tr>\n",
       "      <th>2</th>\n",
       "      <td>9523</td>\n",
       "      <td>1236</td>\n",
       "      <td>1</td>\n",
       "      <td>2024-05-26T15:28:19.559000+00:00</td>\n",
       "      <td>https://livetiming.formula1.com/static/2024/20...</td>\n",
       "    </tr>\n",
       "    <tr>\n",
       "      <th>3</th>\n",
       "      <td>9523</td>\n",
       "      <td>1236</td>\n",
       "      <td>1</td>\n",
       "      <td>2024-05-26T15:28:19.559000+00:00</td>\n",
       "      <td>https://livetiming.formula1.com/static/2024/20...</td>\n",
       "    </tr>\n",
       "  </tbody>\n",
       "</table>\n",
       "</div>"
      ],
      "text/plain": [
       "   session_key  meeting_key  driver_number                              date  \\\n",
       "0         9523         1236              1  2024-05-26T13:58:55.583000+00:00   \n",
       "1         9523         1236              1  2024-05-26T15:03:14.548000+00:00   \n",
       "2         9523         1236              1  2024-05-26T15:28:19.559000+00:00   \n",
       "3         9523         1236              1  2024-05-26T15:28:19.559000+00:00   \n",
       "\n",
       "                                       recording_url  \n",
       "0  https://livetiming.formula1.com/static/2024/20...  \n",
       "1  https://livetiming.formula1.com/static/2024/20...  \n",
       "2  https://livetiming.formula1.com/static/2024/20...  \n",
       "3  https://livetiming.formula1.com/static/2024/20...  "
      ]
     },
     "execution_count": 31,
     "metadata": {},
     "output_type": "execute_result"
    }
   ],
   "source": [
    "pd.DataFrame(json.loads(rq.get('https://api.openf1.org/v1/team_radio?session_key=9523&driver_number=1').text))"
   ]
  },
  {
   "cell_type": "code",
   "execution_count": 30,
   "metadata": {},
   "outputs": [
    {
     "data": {
      "text/plain": [
       "'[{\"session_key\":9523,\"session_name\":\"Race\",\"date_start\":\"2024-05-26T13:00:00+00:00\",\"date_end\":\"2024-05-26T15:00:00+00:00\",\"gmt_offset\":\"02:00:00\",\"session_type\":\"Race\",\"meeting_key\":1236,\"location\":\"Monaco\",\"country_key\":114,\"country_code\":\"MON\",\"country_name\":\"Monaco\",\"circuit_key\":22,\"circuit_short_name\":\"Monte Carlo\",\"year\":2024}]'"
      ]
     },
     "execution_count": 30,
     "metadata": {},
     "output_type": "execute_result"
    }
   ],
   "source": [
    "rq.get('https://api.openf1.org/v1/sessions?country_name=Monaco&session_name=Race&year=2024').text"
   ]
  }
 ],
 "metadata": {
  "kernelspec": {
   "display_name": ".venv",
   "language": "python",
   "name": "python3"
  },
  "language_info": {
   "codemirror_mode": {
    "name": "ipython",
    "version": 3
   },
   "file_extension": ".py",
   "mimetype": "text/x-python",
   "name": "python",
   "nbconvert_exporter": "python",
   "pygments_lexer": "ipython3",
   "version": "3.10.13"
  }
 },
 "nbformat": 4,
 "nbformat_minor": 2
}
