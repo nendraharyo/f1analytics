{
 "cells": [
  {
   "cell_type": "markdown",
   "metadata": {},
   "source": [
    "<H1>Analisis Japanese GP 2024</H1>"
   ]
  },
  {
   "cell_type": "code",
   "execution_count": 1,
   "metadata": {},
   "outputs": [],
   "source": [
    "#melakukan import library\n",
    "import pandas as pd\n",
    "import matplotlib.pyplot as plt\n",
    "import seaborn as sns\n",
    "import numpy as np\n",
    "import fastf1\n",
    "import fastf1.plotting\n",
    "import math\n",
    "from datetime import timedelta\n",
    "import matplotlib as mpl\n",
    "\n",
    "from matplotlib.collections import LineCollection\n",
    "from adjustText import adjust_text\n",
    "\n",
    "fastf1.plotting.setup_mpl()"
   ]
  },
  {
   "cell_type": "code",
   "execution_count": 2,
   "metadata": {},
   "outputs": [],
   "source": [
    "#mendefinisikan fungsi\n",
    "\n",
    "def getDuration(x): #mendapatkan durasi dari poin A ke B\n",
    "    min=x.min()\n",
    "    max=x.max()\n",
    "    return max-min\n",
    "\n",
    "\n",
    "def rotate_matrix (x, y, angle, x_shift=0, y_shift=0, units=\"DEGREES\"): #melakukan proses rotasi matriks numpy\n",
    "    \"\"\"\n",
    "    Rotates a point in the xy-plane counterclockwise through an angle about the origin\n",
    "    https://en.wikipedia.org/wiki/Rotation_matrix\n",
    "    :param x: x coordinate\n",
    "    :param y: y coordinate\n",
    "    :param x_shift: x-axis shift from origin (0, 0)\n",
    "    :param y_shift: y-axis shift from origin (0, 0)\n",
    "    :param angle: The rotation angle in degrees\n",
    "    :param units: DEGREES (default) or RADIANS\n",
    "    :return: Tuple of rotated x and y\n",
    "    \"\"\"\n",
    "\n",
    "    # Shift to origin (0,0)\n",
    "    x = x - x_shift\n",
    "    y = y - y_shift\n",
    "\n",
    "    # Convert degrees to radians\n",
    "    if units == \"DEGREES\":\n",
    "        angle = math.radians(angle)\n",
    "\n",
    "    # Rotation matrix multiplication to get rotated x & y\n",
    "    xr = (x * math.cos(angle)) - (y * math.sin(angle)) + x_shift\n",
    "    yr = (x * math.sin(angle)) + (y * math.cos(angle)) + y_shift\n",
    "\n",
    "    return xr, yr\n",
    "\n",
    "def rotate(xy, *, angle): #melakukan proses rotasi matriks numpy\n",
    "    rot_mat = np.array([[np.cos(angle), np.sin(angle)],\n",
    "                        [-np.sin(angle), np.cos(angle)]])\n",
    "    return np.matmul(xy, rot_mat)"
   ]
  },
  {
   "cell_type": "code",
   "execution_count": null,
   "metadata": {},
   "outputs": [],
   "source": [
    "#memuat data dari fastf1\n",
    "\n",
    "japgp_q_2024=fastf1.get_session(2024,'japan','q')#data kualifikasi\n",
    "japgp_q_2024.load()"
   ]
  }
 ],
 "metadata": {
  "kernelspec": {
   "display_name": ".venv",
   "language": "python",
   "name": "python3"
  },
  "language_info": {
   "codemirror_mode": {
    "name": "ipython",
    "version": 3
   },
   "file_extension": ".py",
   "mimetype": "text/x-python",
   "name": "python",
   "nbconvert_exporter": "python",
   "pygments_lexer": "ipython3",
   "version": "3.10.6"
  }
 },
 "nbformat": 4,
 "nbformat_minor": 2
}
